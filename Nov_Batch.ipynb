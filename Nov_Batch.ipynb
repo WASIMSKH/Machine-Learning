{
  "nbformat": 4,
  "nbformat_minor": 0,
  "metadata": {
    "colab": {
      "provenance": [],
      "authorship_tag": "ABX9TyPqtDJctm0avdyIfqP/zDSN",
      "include_colab_link": true
    },
    "kernelspec": {
      "name": "python3",
      "display_name": "Python 3"
    },
    "language_info": {
      "name": "python"
    }
  },
  "cells": [
    {
      "cell_type": "markdown",
      "metadata": {
        "id": "view-in-github",
        "colab_type": "text"
      },
      "source": [
        "<a href=\"https://colab.research.google.com/github/WASIMSKH/Machine-Learning/blob/main/Nov_Batch.ipynb\" target=\"_parent\"><img src=\"https://colab.research.google.com/assets/colab-badge.svg\" alt=\"Open In Colab\"/></a>"
      ]
    },
    {
      "cell_type": "markdown",
      "source": [
        "Class 1"
      ],
      "metadata": {
        "id": "lM3Cv5ZV55SJ"
      }
    },
    {
      "cell_type": "code",
      "source": [
        "# Creating a variable\n",
        "# int"
      ],
      "metadata": {
        "id": "Wz4sj_0157o1"
      },
      "execution_count": null,
      "outputs": []
    },
    {
      "cell_type": "code",
      "source": [
        "_num1_=100\n",
        "print(_num1_)\n",
        "num1=100\n",
        "Num1=100\n",
        "Num_1=100\n",
        "# num=100\n",
        "# num123=100"
      ],
      "metadata": {
        "colab": {
          "base_uri": "https://localhost:8080/"
        },
        "id": "mIsA8BoE6bGX",
        "outputId": "8c540ef1-909e-496b-fa2b-90b2426054fd"
      },
      "execution_count": null,
      "outputs": [
        {
          "output_type": "stream",
          "name": "stdout",
          "text": [
            "100\n"
          ]
        }
      ]
    },
    {
      "cell_type": "code",
      "source": [
        "name=\"Tom\"\n",
        "print(name)\n",
        "print(type(name))\n",
        "num=1000\n",
        "print(num)\n",
        "print(type(num))\n",
        "num2=187.987\n",
        "print(num2)\n",
        "print(type(num2))\n",
        "num3=True\n",
        "print(num3)\n",
        "print(type(num3))"
      ],
      "metadata": {
        "colab": {
          "base_uri": "https://localhost:8080/"
        },
        "id": "H5BDhojJ7Hgv",
        "outputId": "5ed339e5-2c60-474c-fffa-3f855c54886a"
      },
      "execution_count": null,
      "outputs": [
        {
          "output_type": "stream",
          "name": "stdout",
          "text": [
            "Tom\n",
            "<class 'str'>\n",
            "1000\n",
            "<class 'int'>\n",
            "187.987\n",
            "<class 'float'>\n",
            "True\n",
            "<class 'bool'>\n"
          ]
        }
      ]
    },
    {
      "cell_type": "code",
      "source": [
        "_name_=\"jerry\"\n",
        "# concatenation\n",
        "print(\"my favorite cartoon name is \"+_name_)\n",
        "\n",
        "no1=1999\n",
        "no2=283.4\n",
        "sum=no1+no2\n",
        "print(\"The addition of two values\",sum)\n",
        "print(type(sum))\n",
        "no3=False"
      ],
      "metadata": {
        "colab": {
          "base_uri": "https://localhost:8080/"
        },
        "id": "YbJiw-lq89GU",
        "outputId": "f6e9db56-b89f-4659-a814-54f8d3f59c7b"
      },
      "execution_count": null,
      "outputs": [
        {
          "output_type": "stream",
          "name": "stdout",
          "text": [
            "my favorite cartoon name is jerry\n",
            "The addition of two values 2282.4\n",
            "<class 'float'>\n"
          ]
        }
      ]
    },
    {
      "cell_type": "code",
      "source": [
        "# Boolean\n",
        "print(10>9)\n"
      ],
      "metadata": {
        "colab": {
          "base_uri": "https://localhost:8080/"
        },
        "id": "JNuv7Sac-EUv",
        "outputId": "13ba6ac6-a06b-4828-ec83-f4a8a7e910b2"
      },
      "execution_count": null,
      "outputs": [
        {
          "output_type": "stream",
          "name": "stdout",
          "text": [
            "True\n"
          ]
        }
      ]
    },
    {
      "cell_type": "code",
      "source": [
        "a=10\n",
        "b=\"10\"\n",
        "print(a==b)"
      ],
      "metadata": {
        "colab": {
          "base_uri": "https://localhost:8080/"
        },
        "id": "725NAxe5_qUy",
        "outputId": "d6da2511-0b13-4093-ffd8-0cb135a3404e"
      },
      "execution_count": null,
      "outputs": [
        {
          "output_type": "stream",
          "name": "stdout",
          "text": [
            "False\n"
          ]
        }
      ]
    },
    {
      "cell_type": "code",
      "source": [
        "# Collection datatypes in python\n",
        "# List\n",
        "# Tuple\n",
        "# Dictionary\n",
        "# Set\n"
      ],
      "metadata": {
        "id": "rVRUnNm1AFTS"
      },
      "execution_count": null,
      "outputs": []
    },
    {
      "cell_type": "code",
      "source": [
        "c=int(input(\"Enter the value :\"))\n",
        "d=int(input(\"Enter the value :\"))\n",
        "print(\"The addition of two values are:\",(c+d))"
      ],
      "metadata": {
        "colab": {
          "base_uri": "https://localhost:8080/"
        },
        "id": "IMEJBQRRCMrY",
        "outputId": "90a281c5-99ba-4972-e108-0165ad09f7ad"
      },
      "execution_count": null,
      "outputs": [
        {
          "output_type": "stream",
          "name": "stdout",
          "text": [
            "Enter the value :8\n",
            "Enter the value :6\n",
            "The addition of two values are: 14\n"
          ]
        }
      ]
    },
    {
      "cell_type": "code",
      "source": [
        "'''collection datatypes in python\n",
        "List\n",
        "Tuple\n",
        "Dictionary\n",
        "Set'''\n"
      ],
      "metadata": {
        "id": "70u36FtKCWKm",
        "colab": {
          "base_uri": "https://localhost:8080/",
          "height": 35
        },
        "outputId": "eecd5a68-1673-4e8d-f474-f90d20ad075e"
      },
      "execution_count": null,
      "outputs": [
        {
          "output_type": "execute_result",
          "data": {
            "text/plain": [
              "'collection datatypes in python\\nList\\nTuple\\nDictionary\\nSet'"
            ],
            "application/vnd.google.colaboratory.intrinsic+json": {
              "type": "string"
            }
          },
          "metadata": {},
          "execution_count": 1
        }
      ]
    },
    {
      "cell_type": "code",
      "source": [
        "# List -> ordered collection of datatypes ,[],mutable\n",
        "mylist=[\"task\",\"Sequence\",\"public\",\"details\",63464,True,37.47]\n",
        "print(len(mylist))\n",
        "print(type(mylist))\n",
        "print(mylist)\n",
        "# mylist.reverse()\n",
        "# print(mylist)\n",
        "\n",
        "# Update\n",
        "mylist[5]=False\n",
        "print(mylist)\n",
        "# Append\n",
        "mylist.append(\"data\")\n",
        "print(mylist)\n",
        "# insert\n",
        "mylist.insert(2,\"Data\")\n",
        "print(mylist)\n",
        "# remove\n",
        "mylist.remove(\"data\")\n",
        "print(mylist)\n",
        "# delete\n",
        "del mylist[3]\n",
        "print(mylist)"
      ],
      "metadata": {
        "colab": {
          "base_uri": "https://localhost:8080/"
        },
        "id": "n9YB8lanEBrz",
        "outputId": "fbc2ce03-57a8-448c-dc5f-d8d7c7d43371"
      },
      "execution_count": null,
      "outputs": [
        {
          "output_type": "stream",
          "name": "stdout",
          "text": [
            "7\n",
            "<class 'list'>\n",
            "['task', 'Sequence', 'public', 'details', 63464, True, 37.47]\n",
            "['task', 'Sequence', 'public', 'details', 63464, False, 37.47]\n",
            "['task', 'Sequence', 'public', 'details', 63464, False, 37.47, 'data']\n",
            "['task', 'Sequence', 'Data', 'public', 'details', 63464, False, 37.47, 'data']\n",
            "['task', 'Sequence', 'Data', 'public', 'details', 63464, False, 37.47]\n",
            "['task', 'Sequence', 'Data', 'details', 63464, False, 37.47]\n"
          ]
        }
      ]
    },
    {
      "cell_type": "code",
      "source": [
        "import re\n",
        "b=\"Hello all\"\n",
        "a=re.search(\"all\",b)\n",
        "print(a)\n",
        "print(b[0:9])"
      ],
      "metadata": {
        "colab": {
          "base_uri": "https://localhost:8080/"
        },
        "id": "s2J-Y0ZjMjWs",
        "outputId": "36e19661-c28a-41c9-9af5-bbaad8da6f29"
      },
      "execution_count": null,
      "outputs": [
        {
          "output_type": "stream",
          "name": "stdout",
          "text": [
            "<re.Match object; span=(6, 9), match='all'>\n",
            "Hello all\n"
          ]
        }
      ]
    },
    {
      "cell_type": "code",
      "source": [
        "# Indexing\n",
        "print(mylist[-1])"
      ],
      "metadata": {
        "colab": {
          "base_uri": "https://localhost:8080/"
        },
        "id": "RJQ9aR7YE1YD",
        "outputId": "0a39ee09-708b-46e4-bf56-19c01facfe72"
      },
      "execution_count": null,
      "outputs": [
        {
          "output_type": "stream",
          "name": "stdout",
          "text": [
            "37.47\n"
          ]
        }
      ]
    },
    {
      "cell_type": "code",
      "source": [
        "# Slicing -> is used to obtain a sequence of elements\n",
        "print(mylist[0:3])"
      ],
      "metadata": {
        "colab": {
          "base_uri": "https://localhost:8080/"
        },
        "id": "Zr_j9sbkGO2d",
        "outputId": "a563a101-77d4-4585-989e-ccbb0fdfd924"
      },
      "execution_count": null,
      "outputs": [
        {
          "output_type": "stream",
          "name": "stdout",
          "text": [
            "['task', 'Sequence', 'public']\n"
          ]
        }
      ]
    },
    {
      "cell_type": "code",
      "source": [
        "print(mylist[2:])"
      ],
      "metadata": {
        "colab": {
          "base_uri": "https://localhost:8080/"
        },
        "id": "_h1eJZYmHNI4",
        "outputId": "498c7fcc-4219-4cad-b56d-17b737bcb610"
      },
      "execution_count": null,
      "outputs": [
        {
          "output_type": "stream",
          "name": "stdout",
          "text": [
            "['public', 'details', 63464, True, 37.47]\n"
          ]
        }
      ]
    },
    {
      "cell_type": "code",
      "source": [
        "print(mylist[:3])"
      ],
      "metadata": {
        "colab": {
          "base_uri": "https://localhost:8080/"
        },
        "id": "PYLik0rOHeYS",
        "outputId": "4f5c8d2a-1c56-4839-e879-0c895570535c"
      },
      "execution_count": null,
      "outputs": [
        {
          "output_type": "stream",
          "name": "stdout",
          "text": [
            "['task', 'Sequence', 'public']\n"
          ]
        }
      ]
    },
    {
      "cell_type": "code",
      "source": [
        "print(mylist[4:6])"
      ],
      "metadata": {
        "colab": {
          "base_uri": "https://localhost:8080/"
        },
        "id": "Gux07Hs3HtFy",
        "outputId": "9b67a42d-0a55-459d-bf99-bbcef962b9aa"
      },
      "execution_count": null,
      "outputs": [
        {
          "output_type": "stream",
          "name": "stdout",
          "text": [
            "[63464, True]\n"
          ]
        }
      ]
    },
    {
      "cell_type": "code",
      "source": [
        "print(mylist[-3:-1])"
      ],
      "metadata": {
        "colab": {
          "base_uri": "https://localhost:8080/"
        },
        "id": "Nz5rWp2KITrU",
        "outputId": "cee4150d-a6f0-4056-e167-b225393f288e"
      },
      "execution_count": null,
      "outputs": [
        {
          "output_type": "stream",
          "name": "stdout",
          "text": [
            "[63464, True]\n"
          ]
        }
      ]
    },
    {
      "cell_type": "code",
      "source": [
        "print(mylist[-1:-3])"
      ],
      "metadata": {
        "colab": {
          "base_uri": "https://localhost:8080/"
        },
        "id": "4vY23Vs1JQuS",
        "outputId": "4571a725-9067-4871-dcf3-1be806723f5d"
      },
      "execution_count": null,
      "outputs": [
        {
          "output_type": "stream",
          "name": "stdout",
          "text": [
            "[]\n"
          ]
        }
      ]
    },
    {
      "cell_type": "code",
      "source": [
        "print(mylist[-4:])"
      ],
      "metadata": {
        "colab": {
          "base_uri": "https://localhost:8080/"
        },
        "id": "eItKd-h8JUVx",
        "outputId": "795155af-0783-4d98-89d8-ebae71b03333"
      },
      "execution_count": null,
      "outputs": [
        {
          "output_type": "stream",
          "name": "stdout",
          "text": [
            "['details', 63464, True, 37.47]\n"
          ]
        }
      ]
    },
    {
      "cell_type": "code",
      "source": [
        "# Start, Stop, Step Index\n",
        "mylist=[\"task\",\"Sequence\",\"public\",\"details\",63464,True,37.47]\n",
        "print(mylist[1:5:2])\n"
      ],
      "metadata": {
        "colab": {
          "base_uri": "https://localhost:8080/"
        },
        "id": "2Go5XJ7XJs0a",
        "outputId": "ccddd3dd-a8c6-41aa-c0ab-68ffe6e5ece1"
      },
      "execution_count": null,
      "outputs": [
        {
          "output_type": "stream",
          "name": "stdout",
          "text": [
            "['Sequence', 'details']\n"
          ]
        }
      ]
    },
    {
      "cell_type": "code",
      "source": [
        "print(mylist[-6:7:2])"
      ],
      "metadata": {
        "colab": {
          "base_uri": "https://localhost:8080/"
        },
        "id": "Hmdu-h0WOocg",
        "outputId": "751972b8-4c5c-47e1-d313-e2faf3e89672"
      },
      "execution_count": null,
      "outputs": [
        {
          "output_type": "stream",
          "name": "stdout",
          "text": [
            "['Sequence', 'details', True]\n"
          ]
        }
      ]
    },
    {
      "cell_type": "code",
      "source": [
        "print(mylist[0:7:4])"
      ],
      "metadata": {
        "colab": {
          "base_uri": "https://localhost:8080/"
        },
        "id": "nBMVbk1vPVkC",
        "outputId": "f674c11d-d1e4-49bf-a254-dffa625f613a"
      },
      "execution_count": null,
      "outputs": [
        {
          "output_type": "stream",
          "name": "stdout",
          "text": [
            "['task', 63464]\n"
          ]
        }
      ]
    },
    {
      "cell_type": "code",
      "source": [
        "a=[1,2,3,45,56]\n",
        "b=[43,34,7,8]\n",
        "a.extend(b)"
      ],
      "metadata": {
        "id": "i_TwrX_ZPtSQ"
      },
      "execution_count": null,
      "outputs": []
    },
    {
      "cell_type": "code",
      "source": [
        "print(a)"
      ],
      "metadata": {
        "colab": {
          "base_uri": "https://localhost:8080/"
        },
        "id": "CVwH1ywHSrme",
        "outputId": "c84d0089-b123-42aa-8d1c-9840086c6538"
      },
      "execution_count": null,
      "outputs": [
        {
          "output_type": "stream",
          "name": "stdout",
          "text": [
            "[1, 2, 3, 45, 56, 43, 34, 7, 8]\n"
          ]
        }
      ]
    },
    {
      "cell_type": "code",
      "source": [],
      "metadata": {
        "id": "Xn8NyemJSswq"
      },
      "execution_count": null,
      "outputs": []
    }
  ]
}